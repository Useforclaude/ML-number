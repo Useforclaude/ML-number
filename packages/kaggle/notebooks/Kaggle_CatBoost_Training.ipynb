{
 "cells": [
  {
   "cell_type": "markdown",
   "metadata": {},
   "source": [
    "# 🚀 CatBoost Training - Thai Phone Number Price Prediction\n",
    "\n",
    "**Model**: CatBoost Only\n",
    "**Duration**: 1-2 hours\n",
    "**Expected R²**: 0.85-0.89\n",
    "\n",
    "---\n",
    "\n",
    "## ⚙️ Setup Requirements:\n",
    "1. **GPU**: Turn ON (Settings → Accelerator → GPU P100)\n",
    "2. **Internet**: Turn ON (Settings → Internet → ON)\n",
    "3. **Dataset**: Add `number-ml-kaggle-dataset` (contains code + data)"
   ]
  },
  {
   "cell_type": "markdown",
   "metadata": {},
   "source": [
    "## 📦 Cell 1: Copy Dataset to Working Directory"
   ]
  },
  {
   "cell_type": "code",
   "execution_count": null,
   "metadata": {},
   "outputs": [],
   "source": [
    "%%bash\n",
    "# Copy dataset to working directory\n",
    "cp -r /kaggle/input/number-ml-kaggle-dataset/* /kaggle/working/\n",
    "cd /kaggle/working\n",
    "\n",
    "# Verify files\n",
    "echo \"✅ Files copied:\"\n",
    "ls -lh\n",
    "\n",
    "echo \"\"\n",
    "echo \"✅ Data file:\"\n",
    "ls -lh data/raw/"
   ]
  },
  {
   "cell_type": "markdown",
   "metadata": {},
   "source": [
    "## 📦 Cell 2: Install Dependencies"
   ]
  },
  {
   "cell_type": "code",
   "execution_count": null,
   "metadata": {},
   "outputs": [],
   "source": [
    "%%bash\n",
    "pip install -q optuna catboost lightgbm xgboost scikit-learn==1.5.2\n",
    "\n",
    "# Verify\n",
    "echo \"✅ Package versions:\"\n",
    "python -c \"import catboost; print(f'CatBoost: {catboost.__version__}')\"\n",
    "python -c \"import optuna; print(f'Optuna: {optuna.__version__}')\"\n",
    "python -c \"import sklearn; print(f'Scikit-learn: {sklearn.__version__}')\""
   ]
  },
  {
   "cell_type": "markdown",
   "metadata": {},
   "source": [
    "## 🔧 Cell 3: Configure Environment"
   ]
  },
  {
   "cell_type": "code",
   "execution_count": null,
   "metadata": {},
   "outputs": [],
   "source": [
    "import os\n",
    "import sys\n",
    "\n",
    "# Set base path for Kaggle\n",
    "os.environ['ML_BASE_PATH'] = '/kaggle/working'\n",
    "sys.path.insert(0, '/kaggle/working')\n",
    "\n",
    "# Verify imports\n",
    "print(\"🔍 Verifying imports...\")\n",
    "from src.config import BASE_PATH\n",
    "from src.environment import detect_environment\n",
    "from src.data_handler import load_and_clean_data\n",
    "\n",
    "print(f\"✅ BASE_PATH: {BASE_PATH}\")\n",
    "print(f\"✅ Environment: {detect_environment()}\")\n",
    "print(\"✅ All imports working!\")"
   ]
  },
  {
   "cell_type": "markdown",
   "metadata": {},
   "source": [
    "## 🚀 Cell 4: Train CatBoost Model\n",
    "\n",
    "**This will take 1-2 hours**\n",
    "\n",
    "Progress will be shown with Optuna progress bars"
   ]
  },
  {
   "cell_type": "code",
   "execution_count": null,
   "metadata": {},
   "outputs": [],
   "source": [
    "!python train_catboost_only.py"
   ]
  },
  {
   "cell_type": "markdown",
   "metadata": {},
   "source": [
    "## 📊 Cell 5: Check Results"
   ]
  },
  {
   "cell_type": "code",
   "execution_count": null,
   "metadata": {},
   "outputs": [],
   "source": [
    "import joblib\n",
    "import os\n",
    "\n",
    "checkpoint_path = 'models/checkpoints/catboost_checkpoint.pkl'\n",
    "\n",
    "if os.path.exists(checkpoint_path):\n",
    "    checkpoint = joblib.load(checkpoint_path)\n",
    "    \n",
    "    print(\"=\"*80)\n",
    "    print(\"✅ CATBOOST MODEL LOADED!\")\n",
    "    print(\"=\"*80)\n",
    "    print(f\"📊 R² Score:       {checkpoint['r2_score']:.4f}\")\n",
    "    print(f\"📊 MAE:            ฿{checkpoint['mae']:.2f}\")\n",
    "    print(f\"📊 RMSE:           ฿{checkpoint['rmse']:.2f}\")\n",
    "    print(f\"⏱️  Training Time:  {checkpoint['training_time_hours']:.2f} hours\")\n",
    "    print(f\"📅 Timestamp:      {checkpoint['timestamp']}\")\n",
    "    print(\"=\"*80)\n",
    "    \n",
    "    # Check file size\n",
    "    file_size_mb = os.path.getsize(checkpoint_path) / (1024**2)\n",
    "    print(f\"💾 File size: {file_size_mb:.1f} MB\")\n",
    "    \n",
    "    # Performance assessment\n",
    "    r2 = checkpoint['r2_score']\n",
    "    if r2 >= 0.89:\n",
    "        print(\"\\n🎉 EXCELLENT! R² > 0.89 - Better than expected!\")\n",
    "    elif r2 >= 0.85:\n",
    "        print(\"\\n✅ GOOD! R² in target range (0.85-0.89)\")\n",
    "    elif r2 >= 0.80:\n",
    "        print(\"\\n⚠️  OK! R² above 0.80 - Ensemble will boost this\")\n",
    "    else:\n",
    "        print(\"\\n❌ LOW! R² below 0.80 - Check logs for issues\")\n",
    "else:\n",
    "    print(f\"❌ Checkpoint not found: {checkpoint_path}\")\n",
    "    print(\"Training may still be running or failed. Check logs:\")\n",
    "    !ls -lh logs/"
   ]
  },
  {
   "cell_type": "markdown",
   "metadata": {},
   "source": [
    "## 🧪 Cell 6: Test Prediction"
   ]
  },
  {
   "cell_type": "code",
   "execution_count": null,
   "metadata": {},
   "outputs": [],
   "source": [
    "import joblib\n",
    "import pandas as pd\n",
    "import numpy as np\n",
    "from src.features import create_all_features\n",
    "\n",
    "# Load model\n",
    "checkpoint = joblib.load('models/checkpoints/catboost_checkpoint.pkl')\n",
    "model = checkpoint['model']\n",
    "preprocessor = checkpoint['preprocessor']\n",
    "\n",
    "# Test numbers\n",
    "test_numbers = [\n",
    "    \"0899999999\",  # Very lucky (all 9s)\n",
    "    \"0812345678\",  # Sequential\n",
    "    \"0888888888\",  # All 8s (lucky)\n",
    "    \"0811112222\",  # Repeating pairs\n",
    "    \"0804040404\",  # Pattern\n",
    "]\n",
    "\n",
    "print(\"=\"*80)\n",
    "print(\"🔮 PRICE PREDICTIONS\")\n",
    "print(\"=\"*80)\n",
    "\n",
    "for phone_number in test_numbers:\n",
    "    df_test = pd.DataFrame({'phone_number': [phone_number]})\n",
    "    X_test, _, _ = create_all_features(df_test)\n",
    "    X_test_processed = preprocessor.transform(X_test)\n",
    "    \n",
    "    # Predict\n",
    "    price_log_pred = model.predict(X_test_processed)\n",
    "    price_pred = np.expm1(price_log_pred[0])\n",
    "    \n",
    "    print(f\"📞 {phone_number}\")\n",
    "    print(f\"   💰 Predicted: ฿{price_pred:,.0f}\")\n",
    "    print()"
   ]
  },
  {
   "cell_type": "markdown",
   "metadata": {},
   "source": [
    "## 📈 Cell 7: View Training Logs (Optional)"
   ]
  },
  {
   "cell_type": "code",
   "execution_count": null,
   "metadata": {},
   "outputs": [],
   "source": [
    "%%bash\n",
    "# Show latest log file\n",
    "echo \"📋 Latest training logs:\"\n",
    "echo \"=\"*80\n",
    "tail -100 logs/catboost_*.log | head -100"
   ]
  },
  {
   "cell_type": "markdown",
   "metadata": {},
   "source": [
    "## 💾 Cell 8: Download Model\n",
    "\n",
    "Run this cell to get a download link for the trained model"
   ]
  },
  {
   "cell_type": "code",
   "execution_count": null,
   "metadata": {},
   "outputs": [],
   "source": [
    "from IPython.display import FileLink\n",
    "import os\n",
    "\n",
    "checkpoint_path = 'models/checkpoints/catboost_checkpoint.pkl'\n",
    "\n",
    "if os.path.exists(checkpoint_path):\n",
    "    file_size_mb = os.path.getsize(checkpoint_path) / (1024**2)\n",
    "    print(f\"💾 Model ready for download ({file_size_mb:.1f} MB)\")\n",
    "    print(\"Click the link below:\")\n",
    "    display(FileLink(checkpoint_path))\n",
    "else:\n",
    "    print(f\"❌ File not found: {checkpoint_path}\")"
   ]
  },
  {
   "cell_type": "markdown",
   "metadata": {},
   "source": [
    "## 🔍 Cell 9: GPU Usage Check (Run during training)"
   ]
  },
  {
   "cell_type": "code",
   "execution_count": null,
   "metadata": {},
   "outputs": [],
   "source": [
    "!nvidia-smi"
   ]
  },
  {
   "cell_type": "markdown",
   "metadata": {},
   "source": [
    "---\n",
    "\n",
    "## ✅ Success Checklist\n",
    "\n",
    "- [ ] GPU P100 enabled\n",
    "- [ ] Dataset copied successfully\n",
    "- [ ] Dependencies installed\n",
    "- [ ] Environment configured\n",
    "- [ ] Training completed (1-2 hours)\n",
    "- [ ] R² score > 0.85\n",
    "- [ ] Model checkpoint saved\n",
    "- [ ] Predictions working\n",
    "- [ ] Model downloaded\n",
    "\n",
    "---\n",
    "\n",
    "## 🎯 Next Steps\n",
    "\n",
    "**Option 1**: Train more models (XGBoost, LightGBM, RandomForest)\n",
    "**Option 2**: Create ensemble if you have multiple models\n",
    "**Option 3**: Deploy CatBoost directly if R² is good enough\n",
    "\n",
    "---\n",
    "\n",
    "**Created**: 2025-10-08\n",
    "**Model**: CatBoost\n",
    "**Platform**: Kaggle GPU P100\n",
    "**Ready to train!** 🚀"
   ]
  }
 ],
 "metadata": {
  "kernelspec": {
   "display_name": "Python 3",
   "language": "python",
   "name": "python3"
  },
  "language_info": {
   "codemirror_mode": {
    "name": "ipython",
    "version": 3
   },
   "file_extension": ".py",
   "mimetype": "text/x-python",
   "name": "python",
   "nbconvert_exporter": "python",
   "pygments_lexer": "ipython3",
   "version": "3.10.0"
  }
 },
 "nbformat": 4,
 "nbformat_minor": 4
}
